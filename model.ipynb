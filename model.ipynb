{
 "cells": [
  {
   "cell_type": "markdown",
   "id": "c9791ed5",
   "metadata": {},
   "source": [
    "## Marketing Strategy - Personalised Offer"
   ]
  },
  {
   "cell_type": "markdown",
   "id": "2d42d448",
   "metadata": {},
   "source": [
    "### Problem Statement\n",
    "<b>Understand the user behaviours regarding the offers</b>\n",
    "\n",
    "Description:\n",
    "The data is collected through a survey to understand the driver's behavior regarding their preference for discount/offer for dining/takeaway. The researcher collected these data by providing different scenarios to various users.\n",
    "\n",
    "Example Scenario: You are driving from IIT Madras to Chennai Airport along with your family and you get an offer (10 percent discount on the bill) from the famous Chinese restaurant in Guindy. Will you avail of the offer while traveling?\n",
    "\n",
    "Along with the user response, some basic information about the users is collected.\n",
    "\n",
    "### Column Descriptions:\n",
    "\n",
    "| Column Name                        | Description                                          |\n",
    "|------------------------------------|------------------------------------------------------|\n",
    "| Offer Expiration                   | Number of days the offer is valid.                   |\n",
    "| Income Range                       | Income range.                                        |\n",
    "| Visits to Cold Drinks               | Number of times visited cold drinks.                 |\n",
    "| Travel > 15 Mins for Offer         | Traveled more than 15 minutes to avail an offer?      |\n",
    "| Rest. Spend < $20                  | Number of times spent less than $20 in a restaurant. |\n",
    "| Marital Status                     | Marital status.                                     |\n",
    "| Restaurant Type                    | Type of restaurant.                                 |\n",
    "| Age                                | Age.                                                |\n",
    "| Pref. Western Over Chinese          | Prefer Western over Chinese?                         |\n",
    "| Travel > 25 Mins for Offer         | Traveled more than 25 minutes for an offer?          |\n",
    "| Travel > 5 Mins for Offer          | Traveled more than 5 minutes for an offer?           |\n",
    "| Visits to Bars                      | Number of times visited bars.                       |\n",
    "| Gender                             | Gender.                                             |\n",
    "| Type of Vehicle Used                | Type of vehicle you use.                             |\n",
    "| Rest. Same Direction as House       | Coupon offered restaurant in the same direction as your house? |\n",
    "| Cooks Regularly                     | Cook regularly?                                     |\n",
    "| Customer Type                      | Preferred company for dining.                        |\n",
    "| Qualification                      | Qualification.                                      |\n",
    "| Is Foodie                           | Are you a foodie?                                   |\n",
    "| Take-Aways                         | Number of times opted for take-away.                 |\n",
    "| Job/Job Industry                    | Type of industry you work in.                        |\n",
    "| Rest. Opposite Direction to House   | Coupon offered restaurant opposite direction to your house? |\n",
    "| Has Children                       | Do you have children?                               |\n",
    "| Visit Rest. with Rating (Avg)      | Average rating of the restaurant which gave an offer.|\n",
    "| Temperature                        | Current temperature.                                |\n",
    "| Rest. Spend > $20                  | Number of times spent greater than $20 in a restaurant. |\n",
    "| Travel Time                         | Travel time for the restaurant which gave an offer.  |\n",
    "| Climate                             | Current climate.                                    |\n",
    "| Drop Location                       | Where are you heading to?                            |\n",
    "| Pref. Home Food                     | Prefer home food?                                   |\n",
    "\n",
    "\n",
    "**Target Variable: Offer Accepted**\n",
    "   - Did you accept the offer?\n",
    "\n"
   ]
  },
  {
   "cell_type": "code",
   "execution_count": 26,
   "id": "b9ebeccc",
   "metadata": {
    "execution": {
     "iopub.execute_input": "2022-12-18T18:18:17.777381Z",
     "iopub.status.busy": "2022-12-18T18:18:17.776744Z",
     "iopub.status.idle": "2022-12-18T18:18:19.325985Z",
     "shell.execute_reply": "2022-12-18T18:18:19.324606Z"
    },
    "id": "L7lkno8WTXsb",
    "papermill": {
     "duration": 1.564035,
     "end_time": "2022-12-18T18:18:19.329604",
     "exception": false,
     "start_time": "2022-12-18T18:18:17.765569",
     "status": "completed"
    },
    "tags": []
   },
   "outputs": [],
   "source": [
    "# importing libraries\n",
    "import pandas as pd\n",
    "import numpy as np\n",
    "import matplotlib.pyplot as plt\n",
    "import seaborn as sns\n",
    "from plotly.subplots import make_subplots\n",
    "import plotly.graph_objects as go\n",
    "\n",
    "# from sklearn.impute import SimpleImputer\n",
    "from sklearn.impute import KNNImputer\n",
    "# from sklearn.pipeline import Pipeline\n",
    "from sklearn.compose import ColumnTransformer\n",
    "from sklearn.preprocessing import OneHotEncoder\n",
    "from sklearn.preprocessing import OrdinalEncoder\n",
    "# from sklearn.preprocessing import LabelEncoder\n",
    "# from sklearn.preprocessing import StandardScaler\n",
    "# from sklearn.preprocessing import MinMaxScaler\n",
    "from sklearn.preprocessing import RobustScaler\n",
    "\n",
    "from sklearn.model_selection import train_test_split\n",
    "from sklearn.linear_model import LogisticRegression\n",
    "# from sklearn.ensemble import RandomForestClassifier\n",
    "# from sklearn.model_selection import RandomizedSearchCV\n",
    "\n",
    "from sklearn.metrics import f1_score\n",
    "from sklearn.metrics import classification_report"
   ]
  },
  {
   "cell_type": "code",
   "execution_count": 27,
   "id": "91f30cb1",
   "metadata": {
    "execution": {
     "iopub.execute_input": "2022-12-18T18:18:19.348704Z",
     "iopub.status.busy": "2022-12-18T18:18:19.348270Z",
     "iopub.status.idle": "2022-12-18T18:18:19.526522Z",
     "shell.execute_reply": "2022-12-18T18:18:19.524485Z"
    },
    "id": "p7ikY9GETme_",
    "papermill": {
     "duration": 0.191183,
     "end_time": "2022-12-18T18:18:19.530102",
     "exception": false,
     "start_time": "2022-12-18T18:18:19.338919",
     "status": "completed"
    },
    "tags": []
   },
   "outputs": [],
   "source": [
    "data = pd.read_csv('data.csv')"
   ]
  },
  {
   "cell_type": "markdown",
   "id": "e78021cf",
   "metadata": {
    "id": "ZvX7kXx5d03C",
    "papermill": {
     "duration": 0.008043,
     "end_time": "2022-12-18T18:18:19.546625",
     "exception": false,
     "start_time": "2022-12-18T18:18:19.538582",
     "status": "completed"
    },
    "tags": []
   },
   "source": [
    "### Data Exploration"
   ]
  },
  {
   "cell_type": "code",
   "execution_count": 28,
   "id": "dfc3beac",
   "metadata": {
    "execution": {
     "iopub.execute_input": "2022-12-18T18:18:19.564534Z",
     "iopub.status.busy": "2022-12-18T18:18:19.564075Z",
     "iopub.status.idle": "2022-12-18T18:18:19.600512Z",
     "shell.execute_reply": "2022-12-18T18:18:19.599126Z"
    },
    "id": "d4GYqtFhWzdt",
    "outputId": "61f1a16d-593c-4980-ca30-9236f29c984b",
    "papermill": {
     "duration": 0.048706,
     "end_time": "2022-12-18T18:18:19.603373",
     "exception": false,
     "start_time": "2022-12-18T18:18:19.554667",
     "status": "completed"
    },
    "tags": []
   },
   "outputs": [
    {
     "data": {
      "text/html": [
       "<div>\n",
       "<style scoped>\n",
       "    .dataframe tbody tr th:only-of-type {\n",
       "        vertical-align: middle;\n",
       "    }\n",
       "\n",
       "    .dataframe tbody tr th {\n",
       "        vertical-align: top;\n",
       "    }\n",
       "\n",
       "    .dataframe thead th {\n",
       "        text-align: right;\n",
       "    }\n",
       "</style>\n",
       "<table border=\"1\" class=\"dataframe\">\n",
       "  <thead>\n",
       "    <tr style=\"text-align: right;\">\n",
       "      <th></th>\n",
       "      <th>offer expiration</th>\n",
       "      <th>income_range</th>\n",
       "      <th>no_visited_Cold drinks</th>\n",
       "      <th>travelled_more_than_15mins_for_offer</th>\n",
       "      <th>Restaur_spend_less_than20</th>\n",
       "      <th>Marital Status</th>\n",
       "      <th>restaurant type</th>\n",
       "      <th>age</th>\n",
       "      <th>Prefer western over chinese</th>\n",
       "      <th>travelled_more_than_25mins_for_offer</th>\n",
       "      <th>...</th>\n",
       "      <th>restuarant_opposite_direction_house</th>\n",
       "      <th>has Children</th>\n",
       "      <th>visit restaurant with rating (avg)</th>\n",
       "      <th>temperature</th>\n",
       "      <th>Restaur_spend_greater_than20</th>\n",
       "      <th>Travel Time</th>\n",
       "      <th>Climate</th>\n",
       "      <th>drop location</th>\n",
       "      <th>Prefer home food</th>\n",
       "      <th>Offer Accepted</th>\n",
       "    </tr>\n",
       "  </thead>\n",
       "  <tbody>\n",
       "    <tr>\n",
       "      <th>0</th>\n",
       "      <td>2days</td>\n",
       "      <td>₹100000 or More</td>\n",
       "      <td>4~8</td>\n",
       "      <td>1</td>\n",
       "      <td>less1</td>\n",
       "      <td>Married partner</td>\n",
       "      <td>4 star restaurant</td>\n",
       "      <td>36</td>\n",
       "      <td>0</td>\n",
       "      <td>0</td>\n",
       "      <td>...</td>\n",
       "      <td>0</td>\n",
       "      <td>0</td>\n",
       "      <td>4</td>\n",
       "      <td>67</td>\n",
       "      <td>less1</td>\n",
       "      <td>22</td>\n",
       "      <td>Spring</td>\n",
       "      <td>Location B</td>\n",
       "      <td>0</td>\n",
       "      <td>No</td>\n",
       "    </tr>\n",
       "    <tr>\n",
       "      <th>1</th>\n",
       "      <td>2days</td>\n",
       "      <td>₹87500 - ₹99999</td>\n",
       "      <td>4~8</td>\n",
       "      <td>0</td>\n",
       "      <td>4~8</td>\n",
       "      <td>Married partner</td>\n",
       "      <td>Take-away restaurant</td>\n",
       "      <td>50plus</td>\n",
       "      <td>0</td>\n",
       "      <td>0</td>\n",
       "      <td>...</td>\n",
       "      <td>0</td>\n",
       "      <td>1</td>\n",
       "      <td>3</td>\n",
       "      <td>89</td>\n",
       "      <td>1~3</td>\n",
       "      <td>18</td>\n",
       "      <td>Summer</td>\n",
       "      <td>Location B</td>\n",
       "      <td>0</td>\n",
       "      <td>Yes</td>\n",
       "    </tr>\n",
       "    <tr>\n",
       "      <th>2</th>\n",
       "      <td>2days</td>\n",
       "      <td>₹87500 - ₹99999</td>\n",
       "      <td>less1</td>\n",
       "      <td>1</td>\n",
       "      <td>1~3</td>\n",
       "      <td>Single</td>\n",
       "      <td>Cold drinks</td>\n",
       "      <td>26</td>\n",
       "      <td>1</td>\n",
       "      <td>0</td>\n",
       "      <td>...</td>\n",
       "      <td>1</td>\n",
       "      <td>1</td>\n",
       "      <td>4</td>\n",
       "      <td>67</td>\n",
       "      <td>less1</td>\n",
       "      <td>7</td>\n",
       "      <td>Winter</td>\n",
       "      <td>Location A</td>\n",
       "      <td>1</td>\n",
       "      <td>Yes</td>\n",
       "    </tr>\n",
       "    <tr>\n",
       "      <th>3</th>\n",
       "      <td>10hours</td>\n",
       "      <td>₹37500 - ₹49999</td>\n",
       "      <td>less1</td>\n",
       "      <td>0</td>\n",
       "      <td>1~3</td>\n",
       "      <td>Single</td>\n",
       "      <td>Take-away restaurant</td>\n",
       "      <td>46</td>\n",
       "      <td>1</td>\n",
       "      <td>0</td>\n",
       "      <td>...</td>\n",
       "      <td>0</td>\n",
       "      <td>1</td>\n",
       "      <td>3</td>\n",
       "      <td>89</td>\n",
       "      <td>1~3</td>\n",
       "      <td>7</td>\n",
       "      <td>Summer</td>\n",
       "      <td>Location C</td>\n",
       "      <td>0</td>\n",
       "      <td>No</td>\n",
       "    </tr>\n",
       "    <tr>\n",
       "      <th>4</th>\n",
       "      <td>2days</td>\n",
       "      <td>₹100000 or More</td>\n",
       "      <td>never</td>\n",
       "      <td>1</td>\n",
       "      <td>1~3</td>\n",
       "      <td>Single</td>\n",
       "      <td>4 star restaurant</td>\n",
       "      <td>21</td>\n",
       "      <td>0</td>\n",
       "      <td>1</td>\n",
       "      <td>...</td>\n",
       "      <td>1</td>\n",
       "      <td>0</td>\n",
       "      <td>3</td>\n",
       "      <td>40</td>\n",
       "      <td>less1</td>\n",
       "      <td>7</td>\n",
       "      <td>Summer</td>\n",
       "      <td>Location C</td>\n",
       "      <td>0</td>\n",
       "      <td>No</td>\n",
       "    </tr>\n",
       "  </tbody>\n",
       "</table>\n",
       "<p>5 rows × 31 columns</p>\n",
       "</div>"
      ],
      "text/plain": [
       "  offer expiration     income_range no_visited_Cold drinks  \\\n",
       "0            2days  ₹100000 or More                    4~8   \n",
       "1            2days  ₹87500 - ₹99999                    4~8   \n",
       "2            2days  ₹87500 - ₹99999                  less1   \n",
       "3          10hours  ₹37500 - ₹49999                  less1   \n",
       "4            2days  ₹100000 or More                  never   \n",
       "\n",
       "   travelled_more_than_15mins_for_offer Restaur_spend_less_than20  \\\n",
       "0                                     1                     less1   \n",
       "1                                     0                       4~8   \n",
       "2                                     1                       1~3   \n",
       "3                                     0                       1~3   \n",
       "4                                     1                       1~3   \n",
       "\n",
       "    Marital Status       restaurant type     age  Prefer western over chinese  \\\n",
       "0  Married partner     4 star restaurant      36                            0   \n",
       "1  Married partner  Take-away restaurant  50plus                            0   \n",
       "2           Single           Cold drinks      26                            1   \n",
       "3           Single  Take-away restaurant      46                            1   \n",
       "4           Single     4 star restaurant      21                            0   \n",
       "\n",
       "   travelled_more_than_25mins_for_offer  ...  \\\n",
       "0                                     0  ...   \n",
       "1                                     0  ...   \n",
       "2                                     0  ...   \n",
       "3                                     0  ...   \n",
       "4                                     1  ...   \n",
       "\n",
       "   restuarant_opposite_direction_house has Children  \\\n",
       "0                                    0            0   \n",
       "1                                    0            1   \n",
       "2                                    1            1   \n",
       "3                                    0            1   \n",
       "4                                    1            0   \n",
       "\n",
       "  visit restaurant with rating (avg) temperature  \\\n",
       "0                                  4          67   \n",
       "1                                  3          89   \n",
       "2                                  4          67   \n",
       "3                                  3          89   \n",
       "4                                  3          40   \n",
       "\n",
       "   Restaur_spend_greater_than20  Travel Time Climate drop location  \\\n",
       "0                         less1           22  Spring    Location B   \n",
       "1                           1~3           18  Summer    Location B   \n",
       "2                         less1            7  Winter    Location A   \n",
       "3                           1~3            7  Summer    Location C   \n",
       "4                         less1            7  Summer    Location C   \n",
       "\n",
       "   Prefer home food Offer Accepted  \n",
       "0                 0             No  \n",
       "1                 0            Yes  \n",
       "2                 1            Yes  \n",
       "3                 0             No  \n",
       "4                 0             No  \n",
       "\n",
       "[5 rows x 31 columns]"
      ]
     },
     "execution_count": 28,
     "metadata": {},
     "output_type": "execute_result"
    }
   ],
   "source": [
    "data.head()"
   ]
  },
  {
   "cell_type": "code",
   "execution_count": 29,
   "id": "71fdc23a",
   "metadata": {
    "execution": {
     "iopub.execute_input": "2022-12-18T18:18:19.623409Z",
     "iopub.status.busy": "2022-12-18T18:18:19.621850Z",
     "iopub.status.idle": "2022-12-18T18:18:19.627589Z",
     "shell.execute_reply": "2022-12-18T18:18:19.626418Z"
    },
    "id": "9wIXETYEcx3U",
    "outputId": "b77e8735-c239-4cd6-ad62-34e0dde1ec10",
    "papermill": {
     "duration": 0.018793,
     "end_time": "2022-12-18T18:18:19.630761",
     "exception": false,
     "start_time": "2022-12-18T18:18:19.611968",
     "status": "completed"
    },
    "tags": []
   },
   "outputs": [
    {
     "data": {
      "text/plain": [
       "offer expiration                        object\n",
       "income_range                            object\n",
       "no_visited_Cold drinks                  object\n",
       "travelled_more_than_15mins_for_offer     int64\n",
       "Restaur_spend_less_than20               object\n",
       "Marital Status                          object\n",
       "restaurant type                         object\n",
       "age                                     object\n",
       "Prefer western over chinese              int64\n",
       "travelled_more_than_25mins_for_offer     int64\n",
       "travelled_more_than_5mins_for_offer      int64\n",
       "no_visited_bars                         object\n",
       "gender                                  object\n",
       "car                                     object\n",
       "restuarant_same_direction_house          int64\n",
       "Cooks regularly                          int64\n",
       "Customer type                           object\n",
       "Qualification                           object\n",
       "is foodie                                int64\n",
       "no_Take-aways                           object\n",
       "Job/Job Industry                        object\n",
       "restuarant_opposite_direction_house      int64\n",
       "has Children                             int64\n",
       "visit restaurant with rating (avg)       int64\n",
       "temperature                              int64\n",
       "Restaur_spend_greater_than20            object\n",
       "Travel Time                              int64\n",
       "Climate                                 object\n",
       "drop location                           object\n",
       "Prefer home food                         int64\n",
       "Offer Accepted                          object\n",
       "dtype: object"
      ]
     },
     "execution_count": 29,
     "metadata": {},
     "output_type": "execute_result"
    }
   ],
   "source": [
    "data.dtypes"
   ]
  },
  {
   "cell_type": "code",
   "execution_count": 30,
   "id": "1872435d",
   "metadata": {
    "execution": {
     "iopub.execute_input": "2022-12-18T18:18:19.652366Z",
     "iopub.status.busy": "2022-12-18T18:18:19.651905Z",
     "iopub.status.idle": "2022-12-18T18:18:19.659012Z",
     "shell.execute_reply": "2022-12-18T18:18:19.657853Z"
    },
    "id": "mLQoARsKrJ3e",
    "outputId": "420a8aa5-af21-42e2-ce95-5fe3d76b0f21",
    "papermill": {
     "duration": 0.019627,
     "end_time": "2022-12-18T18:18:19.661632",
     "exception": false,
     "start_time": "2022-12-18T18:18:19.642005",
     "status": "completed"
    },
    "tags": []
   },
   "outputs": [
    {
     "data": {
      "text/plain": [
       "(12379, 31)"
      ]
     },
     "execution_count": 30,
     "metadata": {},
     "output_type": "execute_result"
    }
   ],
   "source": [
    "data.shape"
   ]
  },
  {
   "cell_type": "code",
   "execution_count": 31,
   "id": "f22a02b4",
   "metadata": {
    "execution": {
     "iopub.execute_input": "2022-12-18T18:18:19.680765Z",
     "iopub.status.busy": "2022-12-18T18:18:19.680328Z",
     "iopub.status.idle": "2022-12-18T18:18:19.684959Z",
     "shell.execute_reply": "2022-12-18T18:18:19.683882Z"
    },
    "id": "7-wOYQPwrO2l",
    "outputId": "614b7cd6-c2b5-42f7-9a61-7415d830b24b",
    "papermill": {
     "duration": 0.017222,
     "end_time": "2022-12-18T18:18:19.687464",
     "exception": false,
     "start_time": "2022-12-18T18:18:19.670242",
     "status": "completed"
    },
    "tags": []
   },
   "outputs": [
    {
     "data": {
      "text/plain": [
       "offer expiration                            0\n",
       "income_range                                0\n",
       "no_visited_Cold drinks                    198\n",
       "travelled_more_than_15mins_for_offer        0\n",
       "Restaur_spend_less_than20                 121\n",
       "Marital Status                              0\n",
       "restaurant type                             0\n",
       "age                                         0\n",
       "Prefer western over chinese                 0\n",
       "travelled_more_than_25mins_for_offer        0\n",
       "travelled_more_than_5mins_for_offer         0\n",
       "no_visited_bars                            93\n",
       "gender                                      0\n",
       "car                                     12268\n",
       "restuarant_same_direction_house             0\n",
       "Cooks regularly                             0\n",
       "Customer type                               0\n",
       "Qualification                               0\n",
       "is foodie                                   0\n",
       "no_Take-aways                             144\n",
       "Job/Job Industry                            0\n",
       "restuarant_opposite_direction_house         0\n",
       "has Children                                0\n",
       "visit restaurant with rating (avg)          0\n",
       "temperature                                 0\n",
       "Restaur_spend_greater_than20              160\n",
       "Travel Time                                 0\n",
       "Climate                                     0\n",
       "drop location                               0\n",
       "Prefer home food                            0\n",
       "Offer Accepted                              0\n",
       "dtype: int64"
      ]
     },
     "execution_count": 31,
     "metadata": {},
     "output_type": "execute_result"
    }
   ],
   "source": [
    "data.isnull().sum()"
   ]
  },
  {
   "cell_type": "code",
   "execution_count": 32,
   "id": "171824ff",
   "metadata": {},
   "outputs": [
    {
     "data": {
      "text/plain": [
       "car\n",
       "Car that is too old to install Onstar :D    24\n",
       "Scooter and motorcycle                      23\n",
       "do not drive                                22\n",
       "Mazda5                                      21\n",
       "crossover                                   21\n",
       "Name: count, dtype: int64"
      ]
     },
     "execution_count": 32,
     "metadata": {},
     "output_type": "execute_result"
    }
   ],
   "source": [
    "data['car'].value_counts()"
   ]
  },
  {
   "cell_type": "markdown",
   "id": "4ca77193",
   "metadata": {},
   "source": [
    "Column car has 99.1% missing values and the remaining values doesn't give any usefull insight. Hence, we can drop this column."
   ]
  },
  {
   "cell_type": "code",
   "execution_count": 33,
   "id": "0da7aabe",
   "metadata": {},
   "outputs": [],
   "source": [
    "data = data.drop(['car'], axis=1)"
   ]
  },
  {
   "cell_type": "code",
   "execution_count": 34,
   "id": "2af598f7",
   "metadata": {
    "execution": {
     "iopub.execute_input": "2022-12-18T18:18:19.708276Z",
     "iopub.status.busy": "2022-12-18T18:18:19.707769Z",
     "iopub.status.idle": "2022-12-18T18:18:19.713616Z",
     "shell.execute_reply": "2022-12-18T18:18:19.712106Z"
    },
    "id": "uWvxzwz3mYQL",
    "papermill": {
     "duration": 0.020213,
     "end_time": "2022-12-18T18:18:19.716619",
     "exception": false,
     "start_time": "2022-12-18T18:18:19.696406",
     "status": "completed"
    },
    "tags": []
   },
   "outputs": [
    {
     "name": "stdout",
     "output_type": "stream",
     "text": [
      "offer expiration : ['2days' '10hours'] \n",
      "\n",
      "income_range : ['₹100000 or More' '₹87500 - ₹99999' '₹37500 - ₹49999' 'Less than ₹12500'\n",
      " '₹50000 - ₹62499' '₹12500 - ₹24999' '₹75000 - ₹87499' '₹25000 - ₹37499'\n",
      " '₹62500 - ₹74999'] \n",
      "\n",
      "no_visited_Cold drinks : ['4~8' 'less1' 'never' '1~3' 'gt8' nan] \n",
      "\n",
      "travelled_more_than_15mins_for_offer : [1 0] \n",
      "\n",
      "Restaur_spend_less_than20 : ['less1' '4~8' '1~3' 'gt8' 'never' nan] \n",
      "\n",
      "Marital Status : ['Married partner' 'Single' 'Divorced' 'Unmarried partner' 'Widowed'] \n",
      "\n",
      "restaurant type : ['4 star restaurant' 'Take-away restaurant' 'Cold drinks'\n",
      " 'Restaurant with pub' '2 star restaurant'] \n",
      "\n",
      "age : ['36' '50plus' '26' '46' '21' 'below21' '41' '31'] \n",
      "\n",
      "Prefer western over chinese : [0 1] \n",
      "\n",
      "travelled_more_than_25mins_for_offer : [0 1] \n",
      "\n",
      "travelled_more_than_5mins_for_offer : [1] \n",
      "\n",
      "no_visited_bars : ['less1' 'never' '1~3' nan '4~8' 'gt8'] \n",
      "\n",
      "gender : ['Female' 'Male'] \n",
      "\n",
      "restuarant_same_direction_house : [0 1] \n",
      "\n",
      "Cooks regularly : [1 0] \n",
      "\n",
      "Customer type : ['Individual' 'With Family' 'With Kids' 'With Colleagues'] \n",
      "\n",
      "Qualification : ['Bachelors degree' 'Some college - no degree'\n",
      " 'Graduate degree (Masters or Doctorate)' 'Associates degree'\n",
      " 'High School Graduate' 'Some High School'] \n",
      "\n",
      "is foodie : [0 1] \n",
      "\n",
      "no_Take-aways : ['1~3' 'gt8' '4~8' 'less1' nan 'never'] \n",
      "\n",
      "Job/Job Industry : ['Unemployed' 'Arts Design Entertainment Sports & Media' 'Sales & Related'\n",
      " 'Student' 'Business & Financial' 'Computer & Mathematical'\n",
      " 'Office & Administrative Support' 'Management' 'Healthcare Support'\n",
      " 'Life Physical Social Science' 'Installation Maintenance & Repair'\n",
      " 'Legal' 'Community & Social Services' 'Education&Training&Library'\n",
      " 'Construction & Extraction' 'Healthcare Practitioners & Technical'\n",
      " 'Transportation & Material Moving' 'Retired' 'Architecture & Engineering'\n",
      " 'Production Occupations' 'Farming Fishing & Forestry'\n",
      " 'Protective Service' 'Personal Care & Service'\n",
      " 'Food Preparation & Serving Related'\n",
      " 'Building & Grounds Cleaning & Maintenance'] \n",
      "\n",
      "restuarant_opposite_direction_house : [0 1] \n",
      "\n",
      "has Children : [0 1] \n",
      "\n",
      "visit restaurant with rating (avg) : [4 3 0 1 2] \n",
      "\n",
      "temperature : [67 89 40] \n",
      "\n",
      "Restaur_spend_greater_than20 : ['less1' '1~3' 'never' 'gt8' nan '4~8'] \n",
      "\n",
      "Travel Time : [22 18  7 10 14] \n",
      "\n",
      "Climate : ['Spring' 'Summer' 'Winter'] \n",
      "\n",
      "drop location : ['Location B' 'Location A' 'Location C'] \n",
      "\n",
      "Prefer home food : [0 1] \n",
      "\n",
      "Offer Accepted : ['No' 'Yes'] \n",
      "\n"
     ]
    }
   ],
   "source": [
    "columns= np.array(data.columns)\n",
    "for i in columns:\n",
    "  print(i,':', data[i].unique(),'\\n')"
   ]
  },
  {
   "cell_type": "markdown",
   "id": "2701846f",
   "metadata": {},
   "source": [
    "The values were expected to be limited as the data is collected through a survey. Hence, let's check the distribution of unique values in each column."
   ]
  },
  {
   "cell_type": "code",
   "execution_count": 35,
   "id": "741b1fd4",
   "metadata": {
    "execution": {
     "iopub.execute_input": "2022-12-18T18:18:19.763746Z",
     "iopub.status.busy": "2022-12-18T18:18:19.763355Z",
     "iopub.status.idle": "2022-12-18T18:18:19.798245Z",
     "shell.execute_reply": "2022-12-18T18:18:19.796795Z"
    },
    "id": "hELsc8PunBet",
    "outputId": "96b3e956-065e-4c3c-f925-4ea60fa6a636",
    "papermill": {
     "duration": 0.048472,
     "end_time": "2022-12-18T18:18:19.801460",
     "exception": false,
     "start_time": "2022-12-18T18:18:19.752988",
     "status": "completed"
    },
    "tags": []
   },
   "outputs": [
    {
     "data": {
      "application/vnd.plotly.v1+json": {
       "config": {
        "plotlyServerURL": "https://plot.ly"
       },
       "data": [
        {
         "type": "bar",
         "x": [
          "2days",
          "10hours"
         ],
         "xaxis": "x",
         "y": [
          6791,
          5588
         ],
         "yaxis": "y"
        },
        {
         "type": "bar",
         "x": [
          "₹25000 - ₹37499",
          "₹37500 - ₹49999",
          "₹12500 - ₹24999",
          "₹100000 or More",
          "₹50000 - ₹62499",
          "Less than ₹12500",
          "₹87500 - ₹99999",
          "₹75000 - ₹87499",
          "₹62500 - ₹74999"
         ],
         "xaxis": "x2",
         "y": [
          2010,
          1752,
          1743,
          1706,
          1617,
          1012,
          880,
          830,
          829
         ],
         "yaxis": "y2"
        },
        {
         "type": "bar",
         "x": [
          "less1",
          "1~3",
          "never",
          "4~8",
          "gt8"
         ],
         "xaxis": "x3",
         "y": [
          3304,
          3147,
          2903,
          1776,
          1051
         ],
         "yaxis": "y3"
        },
        {
         "type": "bar",
         "x": [
          1,
          0
         ],
         "xaxis": "x4",
         "y": [
          6999,
          5380
         ],
         "yaxis": "y4"
        },
        {
         "type": "bar",
         "x": [
          "1~3",
          "4~8",
          "less1",
          "gt8",
          "never"
         ],
         "xaxis": "x5",
         "y": [
          5248,
          3485,
          2052,
          1265,
          208
         ],
         "yaxis": "y5"
        },
        {
         "type": "bar",
         "x": [
          "Married partner",
          "Single",
          "Unmarried partner",
          "Divorced",
          "Widowed"
         ],
         "xaxis": "x6",
         "y": [
          4987,
          4665,
          2104,
          512,
          111
         ],
         "yaxis": "y6"
        },
        {
         "type": "bar",
         "x": [
          "Cold drinks",
          "2 star restaurant",
          "Take-away restaurant",
          "4 star restaurant",
          "Restaurant with pub"
         ],
         "xaxis": "x7",
         "y": [
          3471,
          2642,
          2341,
          2199,
          1726
         ],
         "yaxis": "y7"
        },
        {
         "type": "bar",
         "x": [
          "21",
          "26",
          "31",
          "50plus",
          "36",
          "41",
          "46",
          "below21"
         ],
         "xaxis": "x8",
         "y": [
          2602,
          2543,
          1929,
          1756,
          1259,
          1060,
          716,
          514
         ],
         "yaxis": "y8"
        },
        {
         "type": "bar",
         "x": [
          1,
          0
         ],
         "xaxis": "x9",
         "y": [
          6272,
          6107
         ],
         "yaxis": "y9"
        },
        {
         "type": "bar",
         "x": [
          0,
          1
         ],
         "xaxis": "x10",
         "y": [
          10901,
          1478
         ],
         "yaxis": "y10"
        },
        {
         "type": "bar",
         "x": [
          1
         ],
         "xaxis": "x11",
         "y": [
          12379
         ],
         "yaxis": "y11"
        },
        {
         "type": "bar",
         "x": [
          "never",
          "less1",
          "1~3",
          "4~8",
          "gt8"
         ],
         "xaxis": "x12",
         "y": [
          5064,
          3397,
          2430,
          1047,
          348
         ],
         "yaxis": "y12"
        },
        {
         "type": "bar",
         "x": [
          "Female",
          "Male"
         ],
         "xaxis": "x13",
         "y": [
          6335,
          6044
         ],
         "yaxis": "y13"
        },
        {
         "type": "bar",
         "x": [
          0,
          1
         ],
         "xaxis": "x14",
         "y": [
          9737,
          2642
         ],
         "yaxis": "y14"
        },
        {
         "type": "bar",
         "x": [
          0,
          1
         ],
         "xaxis": "x15",
         "y": [
          6195,
          6184
         ],
         "yaxis": "y15"
        },
        {
         "type": "bar",
         "x": [
          "Individual",
          "With Colleagues",
          "With Family",
          "With Kids"
         ],
         "xaxis": "x16",
         "y": [
          5931,
          3182,
          1647,
          1619
         ],
         "yaxis": "y16"
        },
        {
         "type": "bar",
         "x": [
          "Some college - no degree",
          "Bachelors degree",
          "Graduate degree (Masters or Doctorate)",
          "Associates degree",
          "High School Graduate",
          "Some High School"
         ],
         "xaxis": "x17",
         "y": [
          4264,
          4261,
          1802,
          1133,
          839,
          80
         ],
         "yaxis": "y17"
        },
        {
         "type": "bar",
         "x": [
          1,
          0
         ],
         "xaxis": "x18",
         "y": [
          6223,
          6156
         ],
         "yaxis": "y18"
        },
        {
         "type": "bar",
         "x": [
          "1~3",
          "4~8",
          "less1",
          "gt8",
          "never"
         ],
         "xaxis": "x19",
         "y": [
          4650,
          4115,
          1762,
          1568,
          140
         ],
         "yaxis": "y19"
        },
        {
         "type": "bar",
         "x": [
          "Unemployed",
          "Student",
          "Computer & Mathematical",
          "Sales & Related",
          "Education&Training&Library",
          "Management",
          "Arts Design Entertainment Sports & Media",
          "Office & Administrative Support",
          "Business & Financial",
          "Retired",
          "Food Preparation & Serving Related",
          "Healthcare Practitioners & Technical",
          "Transportation & Material Moving",
          "Community & Social Services",
          "Healthcare Support",
          "Legal",
          "Protective Service",
          "Life Physical Social Science",
          "Personal Care & Service",
          "Architecture & Engineering",
          "Construction & Extraction",
          "Installation Maintenance & Repair",
          "Production Occupations",
          "Building & Grounds Cleaning & Maintenance",
          "Farming Fishing & Forestry"
         ],
         "xaxis": "x20",
         "y": [
          1838,
          1520,
          1361,
          1075,
          944,
          842,
          646,
          631,
          486,
          462,
          281,
          246,
          235,
          230,
          223,
          216,
          183,
          175,
          165,
          153,
          150,
          140,
          104,
          41,
          32
         ],
         "yaxis": "y20"
        },
        {
         "type": "bar",
         "x": [
          1,
          0
         ],
         "xaxis": "x21",
         "y": [
          9747,
          2632
         ],
         "yaxis": "y21"
        },
        {
         "type": "bar",
         "x": [
          0,
          1
         ],
         "xaxis": "x22",
         "y": [
          7234,
          5145
         ],
         "yaxis": "y22"
        },
        {
         "type": "bar",
         "x": [
          1,
          4,
          0,
          3,
          2
         ],
         "xaxis": "x23",
         "y": [
          2567,
          2509,
          2503,
          2404,
          2396
         ],
         "yaxis": "y23"
        },
        {
         "type": "bar",
         "x": [
          89,
          67,
          40
         ],
         "xaxis": "x24",
         "y": [
          5720,
          3896,
          2763
         ],
         "yaxis": "y24"
        },
        {
         "type": "bar",
         "x": [
          "less1",
          "1~3",
          "never",
          "4~8",
          "gt8"
         ],
         "xaxis": "x25",
         "y": [
          5992,
          3216,
          2033,
          711,
          267
         ],
         "yaxis": "y25"
        },
        {
         "type": "bar",
         "x": [
          18,
          7,
          10,
          14,
          22
         ],
         "xaxis": "x26",
         "y": [
          2931,
          2883,
          2285,
          2161,
          2119
         ],
         "yaxis": "y26"
        },
        {
         "type": "bar",
         "x": [
          "Summer",
          "Spring",
          "Winter"
         ],
         "xaxis": "x27",
         "y": [
          8065,
          2166,
          2148
         ],
         "yaxis": "y27"
        },
        {
         "type": "bar",
         "x": [
          "Location A",
          "Location B",
          "Location C"
         ],
         "xaxis": "x28",
         "y": [
          5590,
          3424,
          3365
         ],
         "yaxis": "y28"
        },
        {
         "type": "bar",
         "x": [
          1,
          0
         ],
         "xaxis": "x29",
         "y": [
          6311,
          6068
         ],
         "yaxis": "y29"
        },
        {
         "type": "bar",
         "x": [
          "Yes",
          "No"
         ],
         "xaxis": "x30",
         "y": [
          6994,
          5385
         ],
         "yaxis": "y30"
        }
       ],
       "layout": {
        "annotations": [
         {
          "font": {
           "size": 16
          },
          "showarrow": false,
          "text": "offer expiration",
          "x": 0.14444444444444446,
          "xanchor": "center",
          "xref": "paper",
          "y": 1,
          "yanchor": "bottom",
          "yref": "paper"
         },
         {
          "font": {
           "size": 16
          },
          "showarrow": false,
          "text": "income_range",
          "x": 0.5,
          "xanchor": "center",
          "xref": "paper",
          "y": 1,
          "yanchor": "bottom",
          "yref": "paper"
         },
         {
          "font": {
           "size": 16
          },
          "showarrow": false,
          "text": "no_visited_Cold drinks",
          "x": 0.8555555555555556,
          "xanchor": "center",
          "xref": "paper",
          "y": 1,
          "yanchor": "bottom",
          "yref": "paper"
         },
         {
          "font": {
           "size": 16
          },
          "showarrow": false,
          "text": "travelled_more_than_15mins_for_offer",
          "x": 0.14444444444444446,
          "xanchor": "center",
          "xref": "paper",
          "y": 0.8950000000000001,
          "yanchor": "bottom",
          "yref": "paper"
         },
         {
          "font": {
           "size": 16
          },
          "showarrow": false,
          "text": "Restaur_spend_less_than20",
          "x": 0.5,
          "xanchor": "center",
          "xref": "paper",
          "y": 0.8950000000000001,
          "yanchor": "bottom",
          "yref": "paper"
         },
         {
          "font": {
           "size": 16
          },
          "showarrow": false,
          "text": "Marital Status",
          "x": 0.8555555555555556,
          "xanchor": "center",
          "xref": "paper",
          "y": 0.8950000000000001,
          "yanchor": "bottom",
          "yref": "paper"
         },
         {
          "font": {
           "size": 16
          },
          "showarrow": false,
          "text": "restaurant type",
          "x": 0.14444444444444446,
          "xanchor": "center",
          "xref": "paper",
          "y": 0.7900000000000001,
          "yanchor": "bottom",
          "yref": "paper"
         },
         {
          "font": {
           "size": 16
          },
          "showarrow": false,
          "text": "age",
          "x": 0.5,
          "xanchor": "center",
          "xref": "paper",
          "y": 0.7900000000000001,
          "yanchor": "bottom",
          "yref": "paper"
         },
         {
          "font": {
           "size": 16
          },
          "showarrow": false,
          "text": "Prefer western over chinese",
          "x": 0.8555555555555556,
          "xanchor": "center",
          "xref": "paper",
          "y": 0.7900000000000001,
          "yanchor": "bottom",
          "yref": "paper"
         },
         {
          "font": {
           "size": 16
          },
          "showarrow": false,
          "text": "travelled_more_than_25mins_for_offer",
          "x": 0.14444444444444446,
          "xanchor": "center",
          "xref": "paper",
          "y": 0.6850000000000002,
          "yanchor": "bottom",
          "yref": "paper"
         },
         {
          "font": {
           "size": 16
          },
          "showarrow": false,
          "text": "travelled_more_than_5mins_for_offer",
          "x": 0.5,
          "xanchor": "center",
          "xref": "paper",
          "y": 0.6850000000000002,
          "yanchor": "bottom",
          "yref": "paper"
         },
         {
          "font": {
           "size": 16
          },
          "showarrow": false,
          "text": "no_visited_bars",
          "x": 0.8555555555555556,
          "xanchor": "center",
          "xref": "paper",
          "y": 0.6850000000000002,
          "yanchor": "bottom",
          "yref": "paper"
         },
         {
          "font": {
           "size": 16
          },
          "showarrow": false,
          "text": "gender",
          "x": 0.14444444444444446,
          "xanchor": "center",
          "xref": "paper",
          "y": 0.5800000000000001,
          "yanchor": "bottom",
          "yref": "paper"
         },
         {
          "font": {
           "size": 16
          },
          "showarrow": false,
          "text": "restuarant_same_direction_house",
          "x": 0.5,
          "xanchor": "center",
          "xref": "paper",
          "y": 0.5800000000000001,
          "yanchor": "bottom",
          "yref": "paper"
         },
         {
          "font": {
           "size": 16
          },
          "showarrow": false,
          "text": "Cooks regularly",
          "x": 0.8555555555555556,
          "xanchor": "center",
          "xref": "paper",
          "y": 0.5800000000000001,
          "yanchor": "bottom",
          "yref": "paper"
         },
         {
          "font": {
           "size": 16
          },
          "showarrow": false,
          "text": "Customer type",
          "x": 0.14444444444444446,
          "xanchor": "center",
          "xref": "paper",
          "y": 0.47500000000000003,
          "yanchor": "bottom",
          "yref": "paper"
         },
         {
          "font": {
           "size": 16
          },
          "showarrow": false,
          "text": "Qualification",
          "x": 0.5,
          "xanchor": "center",
          "xref": "paper",
          "y": 0.47500000000000003,
          "yanchor": "bottom",
          "yref": "paper"
         },
         {
          "font": {
           "size": 16
          },
          "showarrow": false,
          "text": "is foodie",
          "x": 0.8555555555555556,
          "xanchor": "center",
          "xref": "paper",
          "y": 0.47500000000000003,
          "yanchor": "bottom",
          "yref": "paper"
         },
         {
          "font": {
           "size": 16
          },
          "showarrow": false,
          "text": "no_Take-aways",
          "x": 0.14444444444444446,
          "xanchor": "center",
          "xref": "paper",
          "y": 0.37000000000000005,
          "yanchor": "bottom",
          "yref": "paper"
         },
         {
          "font": {
           "size": 16
          },
          "showarrow": false,
          "text": "Job/Job Industry",
          "x": 0.5,
          "xanchor": "center",
          "xref": "paper",
          "y": 0.37000000000000005,
          "yanchor": "bottom",
          "yref": "paper"
         },
         {
          "font": {
           "size": 16
          },
          "showarrow": false,
          "text": "restuarant_opposite_direction_house",
          "x": 0.8555555555555556,
          "xanchor": "center",
          "xref": "paper",
          "y": 0.37000000000000005,
          "yanchor": "bottom",
          "yref": "paper"
         },
         {
          "font": {
           "size": 16
          },
          "showarrow": false,
          "text": "has Children",
          "x": 0.14444444444444446,
          "xanchor": "center",
          "xref": "paper",
          "y": 0.265,
          "yanchor": "bottom",
          "yref": "paper"
         },
         {
          "font": {
           "size": 16
          },
          "showarrow": false,
          "text": "visit restaurant with rating (avg)",
          "x": 0.5,
          "xanchor": "center",
          "xref": "paper",
          "y": 0.265,
          "yanchor": "bottom",
          "yref": "paper"
         },
         {
          "font": {
           "size": 16
          },
          "showarrow": false,
          "text": "temperature",
          "x": 0.8555555555555556,
          "xanchor": "center",
          "xref": "paper",
          "y": 0.265,
          "yanchor": "bottom",
          "yref": "paper"
         },
         {
          "font": {
           "size": 16
          },
          "showarrow": false,
          "text": "Restaur_spend_greater_than20",
          "x": 0.14444444444444446,
          "xanchor": "center",
          "xref": "paper",
          "y": 0.16000000000000003,
          "yanchor": "bottom",
          "yref": "paper"
         },
         {
          "font": {
           "size": 16
          },
          "showarrow": false,
          "text": "Travel Time",
          "x": 0.5,
          "xanchor": "center",
          "xref": "paper",
          "y": 0.16000000000000003,
          "yanchor": "bottom",
          "yref": "paper"
         },
         {
          "font": {
           "size": 16
          },
          "showarrow": false,
          "text": "Climate",
          "x": 0.8555555555555556,
          "xanchor": "center",
          "xref": "paper",
          "y": 0.16000000000000003,
          "yanchor": "bottom",
          "yref": "paper"
         },
         {
          "font": {
           "size": 16
          },
          "showarrow": false,
          "text": "drop location",
          "x": 0.14444444444444446,
          "xanchor": "center",
          "xref": "paper",
          "y": 0.05500000000000001,
          "yanchor": "bottom",
          "yref": "paper"
         },
         {
          "font": {
           "size": 16
          },
          "showarrow": false,
          "text": "Prefer home food",
          "x": 0.5,
          "xanchor": "center",
          "xref": "paper",
          "y": 0.05500000000000001,
          "yanchor": "bottom",
          "yref": "paper"
         },
         {
          "font": {
           "size": 16
          },
          "showarrow": false,
          "text": "Offer Accepted",
          "x": 0.8555555555555556,
          "xanchor": "center",
          "xref": "paper",
          "y": 0.05500000000000001,
          "yanchor": "bottom",
          "yref": "paper"
         }
        ],
        "height": 4000,
        "showlegend": false,
        "template": {
         "data": {
          "bar": [
           {
            "error_x": {
             "color": "#2a3f5f"
            },
            "error_y": {
             "color": "#2a3f5f"
            },
            "marker": {
             "line": {
              "color": "#E5ECF6",
              "width": 0.5
             },
             "pattern": {
              "fillmode": "overlay",
              "size": 10,
              "solidity": 0.2
             }
            },
            "type": "bar"
           }
          ],
          "barpolar": [
           {
            "marker": {
             "line": {
              "color": "#E5ECF6",
              "width": 0.5
             },
             "pattern": {
              "fillmode": "overlay",
              "size": 10,
              "solidity": 0.2
             }
            },
            "type": "barpolar"
           }
          ],
          "carpet": [
           {
            "aaxis": {
             "endlinecolor": "#2a3f5f",
             "gridcolor": "white",
             "linecolor": "white",
             "minorgridcolor": "white",
             "startlinecolor": "#2a3f5f"
            },
            "baxis": {
             "endlinecolor": "#2a3f5f",
             "gridcolor": "white",
             "linecolor": "white",
             "minorgridcolor": "white",
             "startlinecolor": "#2a3f5f"
            },
            "type": "carpet"
           }
          ],
          "choropleth": [
           {
            "colorbar": {
             "outlinewidth": 0,
             "ticks": ""
            },
            "type": "choropleth"
           }
          ],
          "contour": [
           {
            "colorbar": {
             "outlinewidth": 0,
             "ticks": ""
            },
            "colorscale": [
             [
              0,
              "#0d0887"
             ],
             [
              0.1111111111111111,
              "#46039f"
             ],
             [
              0.2222222222222222,
              "#7201a8"
             ],
             [
              0.3333333333333333,
              "#9c179e"
             ],
             [
              0.4444444444444444,
              "#bd3786"
             ],
             [
              0.5555555555555556,
              "#d8576b"
             ],
             [
              0.6666666666666666,
              "#ed7953"
             ],
             [
              0.7777777777777778,
              "#fb9f3a"
             ],
             [
              0.8888888888888888,
              "#fdca26"
             ],
             [
              1,
              "#f0f921"
             ]
            ],
            "type": "contour"
           }
          ],
          "contourcarpet": [
           {
            "colorbar": {
             "outlinewidth": 0,
             "ticks": ""
            },
            "type": "contourcarpet"
           }
          ],
          "heatmap": [
           {
            "colorbar": {
             "outlinewidth": 0,
             "ticks": ""
            },
            "colorscale": [
             [
              0,
              "#0d0887"
             ],
             [
              0.1111111111111111,
              "#46039f"
             ],
             [
              0.2222222222222222,
              "#7201a8"
             ],
             [
              0.3333333333333333,
              "#9c179e"
             ],
             [
              0.4444444444444444,
              "#bd3786"
             ],
             [
              0.5555555555555556,
              "#d8576b"
             ],
             [
              0.6666666666666666,
              "#ed7953"
             ],
             [
              0.7777777777777778,
              "#fb9f3a"
             ],
             [
              0.8888888888888888,
              "#fdca26"
             ],
             [
              1,
              "#f0f921"
             ]
            ],
            "type": "heatmap"
           }
          ],
          "heatmapgl": [
           {
            "colorbar": {
             "outlinewidth": 0,
             "ticks": ""
            },
            "colorscale": [
             [
              0,
              "#0d0887"
             ],
             [
              0.1111111111111111,
              "#46039f"
             ],
             [
              0.2222222222222222,
              "#7201a8"
             ],
             [
              0.3333333333333333,
              "#9c179e"
             ],
             [
              0.4444444444444444,
              "#bd3786"
             ],
             [
              0.5555555555555556,
              "#d8576b"
             ],
             [
              0.6666666666666666,
              "#ed7953"
             ],
             [
              0.7777777777777778,
              "#fb9f3a"
             ],
             [
              0.8888888888888888,
              "#fdca26"
             ],
             [
              1,
              "#f0f921"
             ]
            ],
            "type": "heatmapgl"
           }
          ],
          "histogram": [
           {
            "marker": {
             "pattern": {
              "fillmode": "overlay",
              "size": 10,
              "solidity": 0.2
             }
            },
            "type": "histogram"
           }
          ],
          "histogram2d": [
           {
            "colorbar": {
             "outlinewidth": 0,
             "ticks": ""
            },
            "colorscale": [
             [
              0,
              "#0d0887"
             ],
             [
              0.1111111111111111,
              "#46039f"
             ],
             [
              0.2222222222222222,
              "#7201a8"
             ],
             [
              0.3333333333333333,
              "#9c179e"
             ],
             [
              0.4444444444444444,
              "#bd3786"
             ],
             [
              0.5555555555555556,
              "#d8576b"
             ],
             [
              0.6666666666666666,
              "#ed7953"
             ],
             [
              0.7777777777777778,
              "#fb9f3a"
             ],
             [
              0.8888888888888888,
              "#fdca26"
             ],
             [
              1,
              "#f0f921"
             ]
            ],
            "type": "histogram2d"
           }
          ],
          "histogram2dcontour": [
           {
            "colorbar": {
             "outlinewidth": 0,
             "ticks": ""
            },
            "colorscale": [
             [
              0,
              "#0d0887"
             ],
             [
              0.1111111111111111,
              "#46039f"
             ],
             [
              0.2222222222222222,
              "#7201a8"
             ],
             [
              0.3333333333333333,
              "#9c179e"
             ],
             [
              0.4444444444444444,
              "#bd3786"
             ],
             [
              0.5555555555555556,
              "#d8576b"
             ],
             [
              0.6666666666666666,
              "#ed7953"
             ],
             [
              0.7777777777777778,
              "#fb9f3a"
             ],
             [
              0.8888888888888888,
              "#fdca26"
             ],
             [
              1,
              "#f0f921"
             ]
            ],
            "type": "histogram2dcontour"
           }
          ],
          "mesh3d": [
           {
            "colorbar": {
             "outlinewidth": 0,
             "ticks": ""
            },
            "type": "mesh3d"
           }
          ],
          "parcoords": [
           {
            "line": {
             "colorbar": {
              "outlinewidth": 0,
              "ticks": ""
             }
            },
            "type": "parcoords"
           }
          ],
          "pie": [
           {
            "automargin": true,
            "type": "pie"
           }
          ],
          "scatter": [
           {
            "fillpattern": {
             "fillmode": "overlay",
             "size": 10,
             "solidity": 0.2
            },
            "type": "scatter"
           }
          ],
          "scatter3d": [
           {
            "line": {
             "colorbar": {
              "outlinewidth": 0,
              "ticks": ""
             }
            },
            "marker": {
             "colorbar": {
              "outlinewidth": 0,
              "ticks": ""
             }
            },
            "type": "scatter3d"
           }
          ],
          "scattercarpet": [
           {
            "marker": {
             "colorbar": {
              "outlinewidth": 0,
              "ticks": ""
             }
            },
            "type": "scattercarpet"
           }
          ],
          "scattergeo": [
           {
            "marker": {
             "colorbar": {
              "outlinewidth": 0,
              "ticks": ""
             }
            },
            "type": "scattergeo"
           }
          ],
          "scattergl": [
           {
            "marker": {
             "colorbar": {
              "outlinewidth": 0,
              "ticks": ""
             }
            },
            "type": "scattergl"
           }
          ],
          "scattermapbox": [
           {
            "marker": {
             "colorbar": {
              "outlinewidth": 0,
              "ticks": ""
             }
            },
            "type": "scattermapbox"
           }
          ],
          "scatterpolar": [
           {
            "marker": {
             "colorbar": {
              "outlinewidth": 0,
              "ticks": ""
             }
            },
            "type": "scatterpolar"
           }
          ],
          "scatterpolargl": [
           {
            "marker": {
             "colorbar": {
              "outlinewidth": 0,
              "ticks": ""
             }
            },
            "type": "scatterpolargl"
           }
          ],
          "scatterternary": [
           {
            "marker": {
             "colorbar": {
              "outlinewidth": 0,
              "ticks": ""
             }
            },
            "type": "scatterternary"
           }
          ],
          "surface": [
           {
            "colorbar": {
             "outlinewidth": 0,
             "ticks": ""
            },
            "colorscale": [
             [
              0,
              "#0d0887"
             ],
             [
              0.1111111111111111,
              "#46039f"
             ],
             [
              0.2222222222222222,
              "#7201a8"
             ],
             [
              0.3333333333333333,
              "#9c179e"
             ],
             [
              0.4444444444444444,
              "#bd3786"
             ],
             [
              0.5555555555555556,
              "#d8576b"
             ],
             [
              0.6666666666666666,
              "#ed7953"
             ],
             [
              0.7777777777777778,
              "#fb9f3a"
             ],
             [
              0.8888888888888888,
              "#fdca26"
             ],
             [
              1,
              "#f0f921"
             ]
            ],
            "type": "surface"
           }
          ],
          "table": [
           {
            "cells": {
             "fill": {
              "color": "#EBF0F8"
             },
             "line": {
              "color": "white"
             }
            },
            "header": {
             "fill": {
              "color": "#C8D4E3"
             },
             "line": {
              "color": "white"
             }
            },
            "type": "table"
           }
          ]
         },
         "layout": {
          "annotationdefaults": {
           "arrowcolor": "#2a3f5f",
           "arrowhead": 0,
           "arrowwidth": 1
          },
          "autotypenumbers": "strict",
          "coloraxis": {
           "colorbar": {
            "outlinewidth": 0,
            "ticks": ""
           }
          },
          "colorscale": {
           "diverging": [
            [
             0,
             "#8e0152"
            ],
            [
             0.1,
             "#c51b7d"
            ],
            [
             0.2,
             "#de77ae"
            ],
            [
             0.3,
             "#f1b6da"
            ],
            [
             0.4,
             "#fde0ef"
            ],
            [
             0.5,
             "#f7f7f7"
            ],
            [
             0.6,
             "#e6f5d0"
            ],
            [
             0.7,
             "#b8e186"
            ],
            [
             0.8,
             "#7fbc41"
            ],
            [
             0.9,
             "#4d9221"
            ],
            [
             1,
             "#276419"
            ]
           ],
           "sequential": [
            [
             0,
             "#0d0887"
            ],
            [
             0.1111111111111111,
             "#46039f"
            ],
            [
             0.2222222222222222,
             "#7201a8"
            ],
            [
             0.3333333333333333,
             "#9c179e"
            ],
            [
             0.4444444444444444,
             "#bd3786"
            ],
            [
             0.5555555555555556,
             "#d8576b"
            ],
            [
             0.6666666666666666,
             "#ed7953"
            ],
            [
             0.7777777777777778,
             "#fb9f3a"
            ],
            [
             0.8888888888888888,
             "#fdca26"
            ],
            [
             1,
             "#f0f921"
            ]
           ],
           "sequentialminus": [
            [
             0,
             "#0d0887"
            ],
            [
             0.1111111111111111,
             "#46039f"
            ],
            [
             0.2222222222222222,
             "#7201a8"
            ],
            [
             0.3333333333333333,
             "#9c179e"
            ],
            [
             0.4444444444444444,
             "#bd3786"
            ],
            [
             0.5555555555555556,
             "#d8576b"
            ],
            [
             0.6666666666666666,
             "#ed7953"
            ],
            [
             0.7777777777777778,
             "#fb9f3a"
            ],
            [
             0.8888888888888888,
             "#fdca26"
            ],
            [
             1,
             "#f0f921"
            ]
           ]
          },
          "colorway": [
           "#636efa",
           "#EF553B",
           "#00cc96",
           "#ab63fa",
           "#FFA15A",
           "#19d3f3",
           "#FF6692",
           "#B6E880",
           "#FF97FF",
           "#FECB52"
          ],
          "font": {
           "color": "#2a3f5f"
          },
          "geo": {
           "bgcolor": "white",
           "lakecolor": "white",
           "landcolor": "#E5ECF6",
           "showlakes": true,
           "showland": true,
           "subunitcolor": "white"
          },
          "hoverlabel": {
           "align": "left"
          },
          "hovermode": "closest",
          "mapbox": {
           "style": "light"
          },
          "paper_bgcolor": "white",
          "plot_bgcolor": "#E5ECF6",
          "polar": {
           "angularaxis": {
            "gridcolor": "white",
            "linecolor": "white",
            "ticks": ""
           },
           "bgcolor": "#E5ECF6",
           "radialaxis": {
            "gridcolor": "white",
            "linecolor": "white",
            "ticks": ""
           }
          },
          "scene": {
           "xaxis": {
            "backgroundcolor": "#E5ECF6",
            "gridcolor": "white",
            "gridwidth": 2,
            "linecolor": "white",
            "showbackground": true,
            "ticks": "",
            "zerolinecolor": "white"
           },
           "yaxis": {
            "backgroundcolor": "#E5ECF6",
            "gridcolor": "white",
            "gridwidth": 2,
            "linecolor": "white",
            "showbackground": true,
            "ticks": "",
            "zerolinecolor": "white"
           },
           "zaxis": {
            "backgroundcolor": "#E5ECF6",
            "gridcolor": "white",
            "gridwidth": 2,
            "linecolor": "white",
            "showbackground": true,
            "ticks": "",
            "zerolinecolor": "white"
           }
          },
          "shapedefaults": {
           "line": {
            "color": "#2a3f5f"
           }
          },
          "ternary": {
           "aaxis": {
            "gridcolor": "white",
            "linecolor": "white",
            "ticks": ""
           },
           "baxis": {
            "gridcolor": "white",
            "linecolor": "white",
            "ticks": ""
           },
           "bgcolor": "#E5ECF6",
           "caxis": {
            "gridcolor": "white",
            "linecolor": "white",
            "ticks": ""
           }
          },
          "title": {
           "x": 0.05
          },
          "xaxis": {
           "automargin": true,
           "gridcolor": "white",
           "linecolor": "white",
           "ticks": "",
           "title": {
            "standoff": 15
           },
           "zerolinecolor": "white",
           "zerolinewidth": 2
          },
          "yaxis": {
           "automargin": true,
           "gridcolor": "white",
           "linecolor": "white",
           "ticks": "",
           "title": {
            "standoff": 15
           },
           "zerolinecolor": "white",
           "zerolinewidth": 2
          }
         }
        },
        "title": {
         "text": "Distribution of Features in Train Data"
        },
        "width": 1200,
        "xaxis": {
         "anchor": "y",
         "domain": [
          0,
          0.2888888888888889
         ]
        },
        "xaxis10": {
         "anchor": "y10",
         "domain": [
          0,
          0.2888888888888889
         ]
        },
        "xaxis11": {
         "anchor": "y11",
         "domain": [
          0.35555555555555557,
          0.6444444444444445
         ]
        },
        "xaxis12": {
         "anchor": "y12",
         "domain": [
          0.7111111111111111,
          1
         ]
        },
        "xaxis13": {
         "anchor": "y13",
         "domain": [
          0,
          0.2888888888888889
         ]
        },
        "xaxis14": {
         "anchor": "y14",
         "domain": [
          0.35555555555555557,
          0.6444444444444445
         ]
        },
        "xaxis15": {
         "anchor": "y15",
         "domain": [
          0.7111111111111111,
          1
         ]
        },
        "xaxis16": {
         "anchor": "y16",
         "domain": [
          0,
          0.2888888888888889
         ]
        },
        "xaxis17": {
         "anchor": "y17",
         "domain": [
          0.35555555555555557,
          0.6444444444444445
         ]
        },
        "xaxis18": {
         "anchor": "y18",
         "domain": [
          0.7111111111111111,
          1
         ]
        },
        "xaxis19": {
         "anchor": "y19",
         "domain": [
          0,
          0.2888888888888889
         ]
        },
        "xaxis2": {
         "anchor": "y2",
         "domain": [
          0.35555555555555557,
          0.6444444444444445
         ]
        },
        "xaxis20": {
         "anchor": "y20",
         "domain": [
          0.35555555555555557,
          0.6444444444444445
         ]
        },
        "xaxis21": {
         "anchor": "y21",
         "domain": [
          0.7111111111111111,
          1
         ]
        },
        "xaxis22": {
         "anchor": "y22",
         "domain": [
          0,
          0.2888888888888889
         ]
        },
        "xaxis23": {
         "anchor": "y23",
         "domain": [
          0.35555555555555557,
          0.6444444444444445
         ]
        },
        "xaxis24": {
         "anchor": "y24",
         "domain": [
          0.7111111111111111,
          1
         ]
        },
        "xaxis25": {
         "anchor": "y25",
         "domain": [
          0,
          0.2888888888888889
         ]
        },
        "xaxis26": {
         "anchor": "y26",
         "domain": [
          0.35555555555555557,
          0.6444444444444445
         ]
        },
        "xaxis27": {
         "anchor": "y27",
         "domain": [
          0.7111111111111111,
          1
         ]
        },
        "xaxis28": {
         "anchor": "y28",
         "domain": [
          0,
          0.2888888888888889
         ]
        },
        "xaxis29": {
         "anchor": "y29",
         "domain": [
          0.35555555555555557,
          0.6444444444444445
         ]
        },
        "xaxis3": {
         "anchor": "y3",
         "domain": [
          0.7111111111111111,
          1
         ]
        },
        "xaxis30": {
         "anchor": "y30",
         "domain": [
          0.7111111111111111,
          1
         ]
        },
        "xaxis4": {
         "anchor": "y4",
         "domain": [
          0,
          0.2888888888888889
         ]
        },
        "xaxis5": {
         "anchor": "y5",
         "domain": [
          0.35555555555555557,
          0.6444444444444445
         ]
        },
        "xaxis6": {
         "anchor": "y6",
         "domain": [
          0.7111111111111111,
          1
         ]
        },
        "xaxis7": {
         "anchor": "y7",
         "domain": [
          0,
          0.2888888888888889
         ]
        },
        "xaxis8": {
         "anchor": "y8",
         "domain": [
          0.35555555555555557,
          0.6444444444444445
         ]
        },
        "xaxis9": {
         "anchor": "y9",
         "domain": [
          0.7111111111111111,
          1
         ]
        },
        "yaxis": {
         "anchor": "x",
         "domain": [
          0.9450000000000001,
          1
         ]
        },
        "yaxis10": {
         "anchor": "x10",
         "domain": [
          0.6300000000000001,
          0.6850000000000002
         ]
        },
        "yaxis11": {
         "anchor": "x11",
         "domain": [
          0.6300000000000001,
          0.6850000000000002
         ]
        },
        "yaxis12": {
         "anchor": "x12",
         "domain": [
          0.6300000000000001,
          0.6850000000000002
         ]
        },
        "yaxis13": {
         "anchor": "x13",
         "domain": [
          0.525,
          0.5800000000000001
         ]
        },
        "yaxis14": {
         "anchor": "x14",
         "domain": [
          0.525,
          0.5800000000000001
         ]
        },
        "yaxis15": {
         "anchor": "x15",
         "domain": [
          0.525,
          0.5800000000000001
         ]
        },
        "yaxis16": {
         "anchor": "x16",
         "domain": [
          0.42000000000000004,
          0.47500000000000003
         ]
        },
        "yaxis17": {
         "anchor": "x17",
         "domain": [
          0.42000000000000004,
          0.47500000000000003
         ]
        },
        "yaxis18": {
         "anchor": "x18",
         "domain": [
          0.42000000000000004,
          0.47500000000000003
         ]
        },
        "yaxis19": {
         "anchor": "x19",
         "domain": [
          0.31500000000000006,
          0.37000000000000005
         ]
        },
        "yaxis2": {
         "anchor": "x2",
         "domain": [
          0.9450000000000001,
          1
         ]
        },
        "yaxis20": {
         "anchor": "x20",
         "domain": [
          0.31500000000000006,
          0.37000000000000005
         ]
        },
        "yaxis21": {
         "anchor": "x21",
         "domain": [
          0.31500000000000006,
          0.37000000000000005
         ]
        },
        "yaxis22": {
         "anchor": "x22",
         "domain": [
          0.21000000000000002,
          0.265
         ]
        },
        "yaxis23": {
         "anchor": "x23",
         "domain": [
          0.21000000000000002,
          0.265
         ]
        },
        "yaxis24": {
         "anchor": "x24",
         "domain": [
          0.21000000000000002,
          0.265
         ]
        },
        "yaxis25": {
         "anchor": "x25",
         "domain": [
          0.10500000000000001,
          0.16000000000000003
         ]
        },
        "yaxis26": {
         "anchor": "x26",
         "domain": [
          0.10500000000000001,
          0.16000000000000003
         ]
        },
        "yaxis27": {
         "anchor": "x27",
         "domain": [
          0.10500000000000001,
          0.16000000000000003
         ]
        },
        "yaxis28": {
         "anchor": "x28",
         "domain": [
          0,
          0.05500000000000001
         ]
        },
        "yaxis29": {
         "anchor": "x29",
         "domain": [
          0,
          0.05500000000000001
         ]
        },
        "yaxis3": {
         "anchor": "x3",
         "domain": [
          0.9450000000000001,
          1
         ]
        },
        "yaxis30": {
         "anchor": "x30",
         "domain": [
          0,
          0.05500000000000001
         ]
        },
        "yaxis4": {
         "anchor": "x4",
         "domain": [
          0.8400000000000001,
          0.8950000000000001
         ]
        },
        "yaxis5": {
         "anchor": "x5",
         "domain": [
          0.8400000000000001,
          0.8950000000000001
         ]
        },
        "yaxis6": {
         "anchor": "x6",
         "domain": [
          0.8400000000000001,
          0.8950000000000001
         ]
        },
        "yaxis7": {
         "anchor": "x7",
         "domain": [
          0.7350000000000001,
          0.7900000000000001
         ]
        },
        "yaxis8": {
         "anchor": "x8",
         "domain": [
          0.7350000000000001,
          0.7900000000000001
         ]
        },
        "yaxis9": {
         "anchor": "x9",
         "domain": [
          0.7350000000000001,
          0.7900000000000001
         ]
        }
       }
      }
     },
     "metadata": {},
     "output_type": "display_data"
    }
   ],
   "source": [
    "# number of columns in the grid\n",
    "num_columns = 3\n",
    "\n",
    "# number of rows needed\n",
    "num_rows = (len(data.columns) + num_columns - 1) // num_columns\n",
    "\n",
    "fig = make_subplots(rows=num_rows, cols=num_columns, subplot_titles=data.columns)\n",
    "\n",
    "# Loop through each column in the DataFrame\n",
    "for i, column in enumerate(data.columns):\n",
    "    row, col = divmod(i, num_columns)\n",
    "   \n",
    "    # Plot the distribution of the column\n",
    "    fig.add_trace(go.Bar(x=data[column].value_counts().index, y=data[column].value_counts().values),\n",
    "                    row=row + 1, col=col + 1)\n",
    "\n",
    "# Update layout for better readability\n",
    "fig.update_layout(height=num_rows * 400, width=400 * num_columns,\n",
    "                  title_text=\"Distribution of Features in Train Data\",\n",
    "                  showlegend=False)\n",
    "\n",
    "# Show the plot\n",
    "fig.show()\n"
   ]
  },
  {
   "cell_type": "markdown",
   "id": "1a1adec4",
   "metadata": {},
   "source": [
    "Changes as per observation:\n",
    "- Age can be grouped into the following category: below 21, 21-25, 26-30, 31-35, 36-40, 41-45, 46-50, above 50\n",
    "- A column for time taken to travel to the restaurant can be created with the following category: less than 5, 5-15, 15-25, more than 25. This can be done by using travel time column and the redudant column can be dropped which are travel > 5 mins for offer, travel > 25 mins for offer and travel > 15 mins for offer.\n",
    "- Temperature can be grouped into the following category: below 40, 40-60, 60-80, above 80"
   ]
  },
  {
   "cell_type": "markdown",
   "id": "be66d293",
   "metadata": {
    "id": "3NyLv7eDDNV2",
    "papermill": {
     "duration": 0.008548,
     "end_time": "2022-12-18T18:18:19.820526",
     "exception": false,
     "start_time": "2022-12-18T18:18:19.811978",
     "status": "completed"
    },
    "tags": []
   },
   "source": [
    "### Data Preparation"
   ]
  },
  {
   "cell_type": "code",
   "execution_count": 36,
   "id": "96ad2342",
   "metadata": {
    "execution": {
     "iopub.execute_input": "2022-12-18T18:18:19.841295Z",
     "iopub.status.busy": "2022-12-18T18:18:19.840874Z",
     "iopub.status.idle": "2022-12-18T18:18:19.850410Z",
     "shell.execute_reply": "2022-12-18T18:18:19.849113Z"
    },
    "id": "8cm97A8hLH3u",
    "papermill": {
     "duration": 0.02342,
     "end_time": "2022-12-18T18:18:19.853202",
     "exception": false,
     "start_time": "2022-12-18T18:18:19.829782",
     "status": "completed"
    },
    "tags": []
   },
   "outputs": [],
   "source": [
    "train= data.copy()"
   ]
  },
  {
   "cell_type": "code",
   "execution_count": 37,
   "id": "72254a51",
   "metadata": {
    "execution": {
     "iopub.execute_input": "2022-12-18T18:18:19.872514Z",
     "iopub.status.busy": "2022-12-18T18:18:19.872117Z",
     "iopub.status.idle": "2022-12-18T18:18:19.878079Z",
     "shell.execute_reply": "2022-12-18T18:18:19.876847Z"
    },
    "id": "uY7kqtN5l1Ep",
    "papermill": {
     "duration": 0.018627,
     "end_time": "2022-12-18T18:18:19.880455",
     "exception": false,
     "start_time": "2022-12-18T18:18:19.861828",
     "status": "completed"
    },
    "tags": []
   },
   "outputs": [],
   "source": [
    "# defining columns\n",
    "Ordinalless=['Restaur_spend_greater_than20','no_Take-aways','no_visited_bars','no_visited_Cold drinks', 'Restaur_spend_less_than20']\n",
    "OrdinalColumns=['Travel Time','temperature','offer expiration']\n",
    "Onehotcolumns=['Customer type','restaurant type','Marital Status','Job/Job Industry','gender', 'drop location', 'Climate']"
   ]
  },
  {
   "cell_type": "code",
   "execution_count": 38,
   "id": "3db5ce6a",
   "metadata": {
    "execution": {
     "iopub.execute_input": "2022-12-18T18:18:20.059178Z",
     "iopub.status.busy": "2022-12-18T18:18:20.057198Z",
     "iopub.status.idle": "2022-12-18T18:18:20.069943Z",
     "shell.execute_reply": "2022-12-18T18:18:20.068230Z"
    },
    "id": "QONpPPDv452e",
    "outputId": "c8469083-f0ee-474b-bd9d-da4939cb400f",
    "papermill": {
     "duration": 0.031225,
     "end_time": "2022-12-18T18:18:20.072528",
     "exception": false,
     "start_time": "2022-12-18T18:18:20.041303",
     "status": "completed"
    },
    "tags": []
   },
   "outputs": [
    {
     "name": "stdout",
     "output_type": "stream",
     "text": [
      "['less1' '1~3' 'never' 'gt8' nan '4~8']\n",
      "['1~3' 'gt8' '4~8' 'less1' nan 'never']\n",
      "['less1' 'never' '1~3' nan '4~8' 'gt8']\n",
      "['4~8' 'less1' 'never' '1~3' 'gt8' nan]\n",
      "['less1' '4~8' '1~3' 'gt8' 'never' nan]\n"
     ]
    }
   ],
   "source": [
    "for i in Ordinalless:\n",
    "  print(train[i].unique())"
   ]
  },
  {
   "cell_type": "code",
   "execution_count": 39,
   "id": "a8261353",
   "metadata": {
    "execution": {
     "iopub.execute_input": "2022-12-18T18:18:20.104847Z",
     "iopub.status.busy": "2022-12-18T18:18:20.103716Z",
     "iopub.status.idle": "2022-12-18T18:18:20.117113Z",
     "shell.execute_reply": "2022-12-18T18:18:20.115739Z"
    },
    "papermill": {
     "duration": 0.037749,
     "end_time": "2022-12-18T18:18:20.120053",
     "exception": false,
     "start_time": "2022-12-18T18:18:20.082304",
     "status": "completed"
    },
    "tags": []
   },
   "outputs": [],
   "source": [
    "train, test = train_test_split(train, test_size=0.2, random_state=42)\n",
    "train_y= train['Offer Accepted']\n",
    "train_x= train.drop('Offer Accepted', axis = 1)"
   ]
  },
  {
   "cell_type": "code",
   "execution_count": 40,
   "id": "42f8d4ff",
   "metadata": {
    "execution": {
     "iopub.execute_input": "2022-12-18T18:18:20.143341Z",
     "iopub.status.busy": "2022-12-18T18:18:20.142928Z",
     "iopub.status.idle": "2022-12-18T18:18:20.152713Z",
     "shell.execute_reply": "2022-12-18T18:18:20.151384Z"
    },
    "id": "0hvwHoVCTuvc",
    "papermill": {
     "duration": 0.024478,
     "end_time": "2022-12-18T18:18:20.154977",
     "exception": false,
     "start_time": "2022-12-18T18:18:20.130499",
     "status": "completed"
    },
    "tags": []
   },
   "outputs": [],
   "source": [
    "# preprocessing all columns using Column Transformer\n",
    "transformer= ColumnTransformer(transformers=[('ord_pipe',OrdinalEncoder(handle_unknown = 'use_encoded_value', unknown_value= np.nan),OrdinalColumns),\n",
    "                                             ('ord_pipe2',OrdinalEncoder(categories=[['never','less1','1~3','4~8','gt8']] * len(Ordinalless), handle_unknown = 'use_encoded_value', unknown_value= np.nan) ,Ordinalless),\n",
    "                                             ('income_pipe',OrdinalEncoder(categories=[['Less than ₹12500','₹12500 - ₹24999','₹25000 - ₹37499',\n",
    "                                                                                        '₹37500 - ₹49999','₹50000 - ₹62499','₹62500 - ₹74999',\n",
    "                                                                                        '₹75000 - ₹87499','₹87500 - ₹99999','₹100000 or More']]),['income_range']),\n",
    "                                             ('onehot_pipe',OneHotEncoder(sparse_output=False, handle_unknown='ignore'),Onehotcolumns),\n",
    "                                             ('age_pipe', OrdinalEncoder(categories=[['below21','21','26','31','36','41','46','50plus']], handle_unknown = 'use_encoded_value', unknown_value= np.nan),['age']),\n",
    "                                             ('qualification', OrdinalEncoder(categories=[['Some High School', 'High School Graduate','Some college - no degree','Associates degree','Bachelors degree','Graduate degree (Masters or Doctorate)']]\n",
    "                                                                              ,handle_unknown = 'use_encoded_value', unknown_value= np.nan),['Qualification'])\n",
    "                                            ],remainder='passthrough')\n"
   ]
  },
  {
   "cell_type": "code",
   "execution_count": 41,
   "id": "881af2ce",
   "metadata": {
    "execution": {
     "iopub.execute_input": "2022-12-18T18:18:20.175704Z",
     "iopub.status.busy": "2022-12-18T18:18:20.175180Z",
     "iopub.status.idle": "2022-12-18T18:18:20.192924Z",
     "shell.execute_reply": "2022-12-18T18:18:20.191130Z"
    },
    "papermill": {
     "duration": 0.031451,
     "end_time": "2022-12-18T18:18:20.195748",
     "exception": false,
     "start_time": "2022-12-18T18:18:20.164297",
     "status": "completed"
    },
    "tags": []
   },
   "outputs": [],
   "source": [
    "# combining travelled columns into one\n",
    "train_x['travel']= train_x['travelled_more_than_5mins_for_offer']+train_x['travelled_more_than_15mins_for_offer']+train_x['travelled_more_than_25mins_for_offer']\n",
    "train_x= train_x.drop(['travelled_more_than_5mins_for_offer','travelled_more_than_15mins_for_offer','travelled_more_than_25mins_for_offer'], axis = 1)"
   ]
  },
  {
   "cell_type": "code",
   "execution_count": 42,
   "id": "b092423f",
   "metadata": {
    "execution": {
     "iopub.execute_input": "2022-12-18T18:18:20.217403Z",
     "iopub.status.busy": "2022-12-18T18:18:20.216559Z",
     "iopub.status.idle": "2022-12-18T18:18:21.661473Z",
     "shell.execute_reply": "2022-12-18T18:18:21.660216Z"
    },
    "papermill": {
     "duration": 1.458997,
     "end_time": "2022-12-18T18:18:21.664116",
     "exception": false,
     "start_time": "2022-12-18T18:18:20.205119",
     "status": "completed"
    },
    "tags": []
   },
   "outputs": [],
   "source": [
    "# transforming and fitting train\n",
    "train_x = transformer.fit_transform(train_x)\n",
    "knn = KNNImputer(n_neighbors=3)\n",
    "train_x = knn.fit_transform(train_x)\n",
    "rs = RobustScaler()\n",
    "train_x = rs.fit_transform(train_x)"
   ]
  },
  {
   "cell_type": "code",
   "execution_count": 43,
   "id": "a9c80665",
   "metadata": {},
   "outputs": [
    {
     "data": {
      "text/html": [
       "<style>#sk-container-id-2 {color: black;}#sk-container-id-2 pre{padding: 0;}#sk-container-id-2 div.sk-toggleable {background-color: white;}#sk-container-id-2 label.sk-toggleable__label {cursor: pointer;display: block;width: 100%;margin-bottom: 0;padding: 0.3em;box-sizing: border-box;text-align: center;}#sk-container-id-2 label.sk-toggleable__label-arrow:before {content: \"▸\";float: left;margin-right: 0.25em;color: #696969;}#sk-container-id-2 label.sk-toggleable__label-arrow:hover:before {color: black;}#sk-container-id-2 div.sk-estimator:hover label.sk-toggleable__label-arrow:before {color: black;}#sk-container-id-2 div.sk-toggleable__content {max-height: 0;max-width: 0;overflow: hidden;text-align: left;background-color: #f0f8ff;}#sk-container-id-2 div.sk-toggleable__content pre {margin: 0.2em;color: black;border-radius: 0.25em;background-color: #f0f8ff;}#sk-container-id-2 input.sk-toggleable__control:checked~div.sk-toggleable__content {max-height: 200px;max-width: 100%;overflow: auto;}#sk-container-id-2 input.sk-toggleable__control:checked~label.sk-toggleable__label-arrow:before {content: \"▾\";}#sk-container-id-2 div.sk-estimator input.sk-toggleable__control:checked~label.sk-toggleable__label {background-color: #d4ebff;}#sk-container-id-2 div.sk-label input.sk-toggleable__control:checked~label.sk-toggleable__label {background-color: #d4ebff;}#sk-container-id-2 input.sk-hidden--visually {border: 0;clip: rect(1px 1px 1px 1px);clip: rect(1px, 1px, 1px, 1px);height: 1px;margin: -1px;overflow: hidden;padding: 0;position: absolute;width: 1px;}#sk-container-id-2 div.sk-estimator {font-family: monospace;background-color: #f0f8ff;border: 1px dotted black;border-radius: 0.25em;box-sizing: border-box;margin-bottom: 0.5em;}#sk-container-id-2 div.sk-estimator:hover {background-color: #d4ebff;}#sk-container-id-2 div.sk-parallel-item::after {content: \"\";width: 100%;border-bottom: 1px solid gray;flex-grow: 1;}#sk-container-id-2 div.sk-label:hover label.sk-toggleable__label {background-color: #d4ebff;}#sk-container-id-2 div.sk-serial::before {content: \"\";position: absolute;border-left: 1px solid gray;box-sizing: border-box;top: 0;bottom: 0;left: 50%;z-index: 0;}#sk-container-id-2 div.sk-serial {display: flex;flex-direction: column;align-items: center;background-color: white;padding-right: 0.2em;padding-left: 0.2em;position: relative;}#sk-container-id-2 div.sk-item {position: relative;z-index: 1;}#sk-container-id-2 div.sk-parallel {display: flex;align-items: stretch;justify-content: center;background-color: white;position: relative;}#sk-container-id-2 div.sk-item::before, #sk-container-id-2 div.sk-parallel-item::before {content: \"\";position: absolute;border-left: 1px solid gray;box-sizing: border-box;top: 0;bottom: 0;left: 50%;z-index: -1;}#sk-container-id-2 div.sk-parallel-item {display: flex;flex-direction: column;z-index: 1;position: relative;background-color: white;}#sk-container-id-2 div.sk-parallel-item:first-child::after {align-self: flex-end;width: 50%;}#sk-container-id-2 div.sk-parallel-item:last-child::after {align-self: flex-start;width: 50%;}#sk-container-id-2 div.sk-parallel-item:only-child::after {width: 0;}#sk-container-id-2 div.sk-dashed-wrapped {border: 1px dashed gray;margin: 0 0.4em 0.5em 0.4em;box-sizing: border-box;padding-bottom: 0.4em;background-color: white;}#sk-container-id-2 div.sk-label label {font-family: monospace;font-weight: bold;display: inline-block;line-height: 1.2em;}#sk-container-id-2 div.sk-label-container {text-align: center;}#sk-container-id-2 div.sk-container {/* jupyter's `normalize.less` sets `[hidden] { display: none; }` but bootstrap.min.css set `[hidden] { display: none !important; }` so we also need the `!important` here to be able to override the default hidden behavior on the sphinx rendered scikit-learn.org. See: https://github.com/scikit-learn/scikit-learn/issues/21755 */display: inline-block !important;position: relative;}#sk-container-id-2 div.sk-text-repr-fallback {display: none;}</style><div id=\"sk-container-id-2\" class=\"sk-top-container\"><div class=\"sk-text-repr-fallback\"><pre>LogisticRegression(max_iter=1000, random_state=42)</pre><b>In a Jupyter environment, please rerun this cell to show the HTML representation or trust the notebook. <br />On GitHub, the HTML representation is unable to render, please try loading this page with nbviewer.org.</b></div><div class=\"sk-container\" hidden><div class=\"sk-item\"><div class=\"sk-estimator sk-toggleable\"><input class=\"sk-toggleable__control sk-hidden--visually\" id=\"sk-estimator-id-2\" type=\"checkbox\" checked><label for=\"sk-estimator-id-2\" class=\"sk-toggleable__label sk-toggleable__label-arrow\">LogisticRegression</label><div class=\"sk-toggleable__content\"><pre>LogisticRegression(max_iter=1000, random_state=42)</pre></div></div></div></div></div>"
      ],
      "text/plain": [
       "LogisticRegression(max_iter=1000, random_state=42)"
      ]
     },
     "execution_count": 43,
     "metadata": {},
     "output_type": "execute_result"
    }
   ],
   "source": [
    "lr = LogisticRegression( max_iter= 1000, random_state= 42)\n",
    "lr.fit(train_x, train_y)"
   ]
  },
  {
   "cell_type": "code",
   "execution_count": 44,
   "id": "77c09550",
   "metadata": {
    "execution": {
     "iopub.execute_input": "2022-12-18T18:18:21.684427Z",
     "iopub.status.busy": "2022-12-18T18:18:21.683963Z",
     "iopub.status.idle": "2022-12-18T18:18:21.696782Z",
     "shell.execute_reply": "2022-12-18T18:18:21.695021Z"
    },
    "papermill": {
     "duration": 0.026913,
     "end_time": "2022-12-18T18:18:21.700315",
     "exception": false,
     "start_time": "2022-12-18T18:18:21.673402",
     "status": "completed"
    },
    "tags": []
   },
   "outputs": [],
   "source": [
    "test['travel']= test['travelled_more_than_5mins_for_offer']+test['travelled_more_than_15mins_for_offer']+test['travelled_more_than_25mins_for_offer']\n",
    "test= test.drop(['travelled_more_than_5mins_for_offer','travelled_more_than_15mins_for_offer','travelled_more_than_25mins_for_offer'], axis = 1)"
   ]
  },
  {
   "cell_type": "code",
   "execution_count": 45,
   "id": "a02a3051",
   "metadata": {},
   "outputs": [],
   "source": [
    "test_x= test.drop('Offer Accepted', axis = 1)\n",
    "test_y= test['Offer Accepted']"
   ]
  },
  {
   "cell_type": "code",
   "execution_count": 46,
   "id": "e89fc436",
   "metadata": {
    "execution": {
     "iopub.execute_input": "2022-12-18T18:18:21.721340Z",
     "iopub.status.busy": "2022-12-18T18:18:21.720272Z",
     "iopub.status.idle": "2022-12-18T18:18:22.346575Z",
     "shell.execute_reply": "2022-12-18T18:18:22.345254Z"
    },
    "papermill": {
     "duration": 0.640027,
     "end_time": "2022-12-18T18:18:22.349657",
     "exception": false,
     "start_time": "2022-12-18T18:18:21.709630",
     "status": "completed"
    },
    "tags": []
   },
   "outputs": [],
   "source": [
    "# transforming test train\n",
    "test_x = transformer.transform(test_x)\n",
    "test_x = knn.transform(test_x)\n",
    "test_x = rs.transform(test_x)"
   ]
  },
  {
   "cell_type": "code",
   "execution_count": 47,
   "id": "698d2a2a",
   "metadata": {},
   "outputs": [],
   "source": [
    "lr_pred = lr.predict(test_x)"
   ]
  },
  {
   "cell_type": "code",
   "execution_count": 48,
   "id": "5666e283",
   "metadata": {},
   "outputs": [
    {
     "data": {
      "text/plain": [
       "0.6836998706338939"
      ]
     },
     "execution_count": 48,
     "metadata": {},
     "output_type": "execute_result"
    }
   ],
   "source": [
    "f1_score(test_y, lr_pred, pos_label='Yes')"
   ]
  },
  {
   "cell_type": "code",
   "execution_count": 49,
   "id": "987e3020",
   "metadata": {},
   "outputs": [
    {
     "name": "stdout",
     "output_type": "stream",
     "text": [
      "              precision    recall  f1-score   support\n",
      "\n",
      "          No       0.58      0.40      0.47      1105\n",
      "         Yes       0.61      0.77      0.68      1371\n",
      "\n",
      "    accuracy                           0.61      2476\n",
      "   macro avg       0.60      0.59      0.58      2476\n",
      "weighted avg       0.60      0.61      0.59      2476\n",
      "\n"
     ]
    }
   ],
   "source": [
    "print(classification_report(test_y, lr_pred))"
   ]
  },
  {
   "cell_type": "code",
   "execution_count": 50,
   "id": "0331eec8",
   "metadata": {},
   "outputs": [
    {
     "data": {
      "text/plain": [
       "0.699603489294211"
      ]
     },
     "execution_count": 50,
     "metadata": {},
     "output_type": "execute_result"
    }
   ],
   "source": [
    "f1_score(train_y, lr.predict(train_x), pos_label='Yes')"
   ]
  }
 ],
 "metadata": {
  "kernelspec": {
   "display_name": "Python 3",
   "language": "python",
   "name": "python3"
  },
  "language_info": {
   "codemirror_mode": {
    "name": "ipython",
    "version": 3
   },
   "file_extension": ".py",
   "mimetype": "text/x-python",
   "name": "python",
   "nbconvert_exporter": "python",
   "pygments_lexer": "ipython3",
   "version": "3.11.5"
  },
  "papermill": {
   "default_parameters": {},
   "duration": 1414.771323,
   "end_time": "2022-12-18T18:41:42.557752",
   "environment_variables": {},
   "exception": null,
   "input_path": "__notebook__.ipynb",
   "output_path": "__notebook__.ipynb",
   "parameters": {},
   "start_time": "2022-12-18T18:18:07.786429",
   "version": "2.3.4"
  }
 },
 "nbformat": 4,
 "nbformat_minor": 5
}
